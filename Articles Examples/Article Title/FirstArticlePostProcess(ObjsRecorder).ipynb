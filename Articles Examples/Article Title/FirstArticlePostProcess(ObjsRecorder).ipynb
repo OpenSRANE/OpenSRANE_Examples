{
 "cells": [
  {
   "cell_type": "code",
   "execution_count": null,
   "metadata": {},
   "outputs": [],
   "source": [
    "\n",
    "import opensrane as opr\n",
    "import os as os"
   ]
  },
  {
   "cell_type": "code",
   "execution_count": null,
   "metadata": {},
   "outputs": [],
   "source": [
    "\n",
    "results=opr.PostProcess.ObjsRecorderPP.Analyze('Recorder',100)"
   ]
  },
  {
   "cell_type": "code",
   "execution_count": null,
   "metadata": {},
   "outputs": [],
   "source": [
    "TotalAnaNum=results['Total_Number_Of_Scenarios']\n",
    "print(results['Total_Number_Of_Scenarios'])"
   ]
  },
  {
   "cell_type": "code",
   "execution_count": null,
   "metadata": {},
   "outputs": [],
   "source": [
    "#Assign some results into variables\n",
    "ScenNameDmLvl=results['ScenarioName_DamageLevel_Dict']\n",
    "ScenAnaTag=results['ScenariosAnalyzeNumbers']\n",
    "ScenProb=results['ScenariosProbability']\n",
    "ScenSubScen=results['ScanariosSubScenario']\n",
    "DamLvlScenDict=results['Damagelevel_Scenario_Dict']\n",
    "\n",
    "#Calculate the Average radiation and over pressure in nodegroup\n",
    "NGRadDict=results['NodesGroup_Rad_Probit_Dict']\n",
    "NGOVPDict=results['NodesGroup_OVP_Probit_Dict']"
   ]
  },
  {
   "cell_type": "code",
   "execution_count": null,
   "metadata": {},
   "outputs": [],
   "source": [
    "# Plot and Calculate all 0 level damage scenarios\n",
    "ZeroLevelScen=[]\n",
    "\n",
    "TotalZeroProb=0\n",
    "for scen in DamLvlScenDict[0]:\n",
    "    ZeroLevelScen.append(scen)\n",
    "    TotalZeroProb +=ScenProb[scen]\n",
    "\n",
    "print(1-TotalZeroProb)\n",
    "\n",
    "#Plot scenario - probabilty Graph for Damage Lavel Zero\n",
    "opr.PostProcess.PlotPP.ScenarioProbability(results,'log',[])\n",
    "\n",
    "#Find the most probable scenarios:\n",
    "Problist=list(set(list(ScenProb.values())))\n",
    "Problist.sort()\n",
    "\n",
    "for scen in list(DamLvlScenDict[0])+list(DamLvlScenDict[1]):\n",
    "    if ScenProb[scen] in Problist[-10:]:\n",
    "        print(scen,'\\t',ScenProb[scen])"
   ]
  },
  {
   "cell_type": "code",
   "execution_count": null,
   "metadata": {},
   "outputs": [],
   "source": [
    "#find list of scenarios that all plant has been failed\n",
    "AllUnitsDamagedList=[]\n",
    "AllUnitsDamagedProb=[]\n",
    "\n",
    "#1-Find the list of the all units damaged scenario\n",
    "for name,damlvl in ScenNameDmLvl.items():\n",
    "    if None not in damlvl.values():\n",
    "        AllUnitsDamagedList.append(name)\n",
    "\n",
    "#2-Find and sort their probabilirt\n",
    "AllUnitsDamagedProb=[ScenProb[scen] for scen in AllUnitsDamagedList]\n",
    "AllUnitsDamagedProb=list(set(AllUnitsDamagedProb))\n",
    "AllUnitsDamagedProb.sort()\n",
    "\n",
    "#3-set the probability equal to first ten \n",
    "AllUnitsDamagedProb=AllUnitsDamagedProb[-10:]\n",
    "\n",
    "#4-Find the final list\n",
    "Final_list=[]\n",
    "for prob in AllUnitsDamagedProb[::-1]:\n",
    "    for scen in AllUnitsDamagedList:\n",
    "        if ScenProb[scen]==prob: Final_list.append(scen)\n",
    "\n",
    "Final_list=list(set(Final_list))\n",
    "\n",
    "#Print the results\n",
    "for scen in Final_list:\n",
    "    print(scen, '\\t', ScenProb[scen])\n",
    "        \n",
    "#Plot above scenarios and their corresponding probability\n",
    "opr.PostProcess.PlotPP.ScenarioProbability(results,'log',[],ScenarioList=AllUnitsDamagedList)\n"
   ]
  },
  {
   "cell_type": "code",
   "execution_count": null,
   "metadata": {},
   "outputs": [],
   "source": [
    "#load Bank for Plots\n",
    "EventsNumber=opr.Recorders.Objs_recorder_loader.loadScenarioBank('Recorder') #Load Bank"
   ]
  },
  {
   "cell_type": "code",
   "execution_count": null,
   "metadata": {},
   "outputs": [],
   "source": [
    "#Plot a scenarios\n",
    "tags=ScenAnaTag['(0):[7]'] #Get Scenario tags\n",
    "\n",
    "opr.Recorders.Objs_recorder_loader.load1ScenarioOfBank(tags[0])       #Load desired Scenario\n",
    "\n",
    "opr.Plot.Plotly.PlotUnits2D(1,OverPressureList=[12000],OverPressureHeight=2, OverPressurePointNumber=20,\n",
    "                              RadiationList=[4000], RadiationHeight=2, RadiationPointNumber=20,\n",
    "                              GasConcentrationlist=[0.02,0.025], GasConcentrationHeght=2, ConcentrationPointNumber=20)\n"
   ]
  },
  {
   "cell_type": "code",
   "execution_count": null,
   "metadata": {},
   "outputs": [],
   "source": [
    "#find sub scenarios\n",
    "Scename='(0):[7]-(1):[6]'\n",
    "print(results['ScanariosSubScenario'][Scename])\n",
    "\n",
    "#Print Sub Scenarios with their probability\n",
    "for scensub in ScenSubScen[Scename]:\n",
    "    print('Scenario SubAcenario and Prob: \\t', scensub, '\\t',ScenProb[scensub])"
   ]
  },
  {
   "cell_type": "code",
   "execution_count": null,
   "metadata": {},
   "outputs": [],
   "source": [
    "opr.PostProcess.PlotPP.DamageLevel_ExpectedLoss(results,'linear')\n",
    "opr.PostProcess.PlotPP.DamageLevel_ExpectedLoss(results,'log')"
   ]
  },
  {
   "cell_type": "code",
   "execution_count": null,
   "metadata": {},
   "outputs": [],
   "source": [
    "opr.PostProcess.PlotPP.Expected_Total_LOC(results, 'linear')\n",
    "opr.PostProcess.PlotPP.Expected_Total_LOC(results,'log')\n"
   ]
  },
  {
   "cell_type": "code",
   "execution_count": null,
   "metadata": {},
   "outputs": [],
   "source": [
    "opr.PostProcess.PlotPP.Unit_ZeroLevel_DamageProb(results,'linear')\n",
    "opr.PostProcess.PlotPP.Unit_ZeroLevel_DamageProb(results,'log')"
   ]
  },
  {
   "cell_type": "code",
   "execution_count": null,
   "metadata": {},
   "outputs": [],
   "source": [
    "opr.PostProcess.PlotPP.Fragilities_Probits_Probability(results,'linear')\n",
    "opr.PostProcess.PlotPP.Fragilities_Probits_Probability(results,'log')"
   ]
  },
  {
   "cell_type": "code",
   "execution_count": null,
   "metadata": {},
   "outputs": [],
   "source": [
    "#Plot Individual risk \n",
    "opr.Plot.Plotly.PlotIndividualRisk(PlotMode=1,\n",
    "    NodesGroupTag=1,\n",
    "    NodesProbabilityList=results['NodesGroupDamageProbability'][1],\n",
    "    ContorList=[1e-8,1e-5],)"
   ]
  },
  {
   "cell_type": "code",
   "execution_count": null,
   "metadata": {},
   "outputs": [],
   "source": [
    "#Export and plot OverPressure average--------------------------------------------\n",
    "NodeGroupTag=1\n",
    "\n",
    "#Plot Individual risk\n",
    "opr.Plot.Plotly.PlotIndividualRisk(PlotMode=1,\n",
    "    NodesGroupTag=NodeGroupTag,\n",
    "    NodesProbabilityList=NGOVPDict[NodeGroupTag],\n",
    "    ContorList=[1e-10,1e-5],)"
   ]
  },
  {
   "cell_type": "code",
   "execution_count": null,
   "metadata": {},
   "outputs": [],
   "source": [
    "#Export and plot Radiation average--------------------------------------------\n",
    "NodeGroupTag=1\n",
    "\n",
    "#Plot Individual risk\n",
    "opr.Plot.Plotly.PlotIndividualRisk(PlotMode=1,\n",
    "    NodesGroupTag=NodeGroupTag,\n",
    "    NodesProbabilityList=NGRadDict[NodeGroupTag],\n",
    "    ContorList=[1e-8,1e-5],)"
   ]
  },
  {
   "cell_type": "code",
   "execution_count": null,
   "metadata": {},
   "outputs": [],
   "source": [
    "#Export and plot max(Radiation,OverPressure) average--------------------------------------------\n",
    "NodeGroupTag=1\n",
    "MaxProb=[max(i,j) for i,j in zip(NGRadDict[NodeGroupTag],NGOVPDict[NodeGroupTag])]\n",
    "\n",
    "#Plot Individual risk\n",
    "opr.Plot.Plotly.PlotIndividualRisk(PlotMode=1,\n",
    "    NodesGroupTag=NodeGroupTag,\n",
    "    NodesProbabilityList=MaxProb,\n",
    "    ContorList=[1e-8,1e-5])"
   ]
  },
  {
   "cell_type": "code",
   "execution_count": null,
   "metadata": {},
   "outputs": [],
   "source": [
    "#Plot average of radiation at each node\n",
    "RadVals=results['NodesGroupRadiationDict'][1]\n",
    "\n",
    "#Plot Radiation average values\n",
    "opr.Plot.Plotly.PlotIndividualRisk(PlotMode=1,\n",
    "    NodesGroupTag=NodeGroupTag,\n",
    "    NodesProbabilityList=RadVals,\n",
    "    ContorList=[])"
   ]
  },
  {
   "cell_type": "code",
   "execution_count": null,
   "metadata": {},
   "outputs": [],
   "source": [
    "Scennum=83\n",
    "print(list(ScenProb.keys())[Scennum])\n",
    "print(ScenProb[list(ScenProb.keys())[Scennum]])"
   ]
  },
  {
   "cell_type": "code",
   "execution_count": null,
   "metadata": {},
   "outputs": [],
   "source": [
    "Scenname='(0):[7]'\n",
    "\n",
    "print(ScenAnaTag[Scenname])"
   ]
  },
  {
   "cell_type": "code",
   "execution_count": null,
   "metadata": {},
   "outputs": [],
   "source": [
    "print('Damage Levels:',list(DamLvlScenDict.keys()))\n",
    "for dmlvl in DamLvlScenDict.keys():\n",
    "    print(dmlvl, len(DamLvlScenDict[dmlvl]))\n",
    "dmlvl=4\n",
    "print(f'list of the scenarios in damage level {dmlvl}:\\n',(DamLvlScenDict[dmlvl]))"
   ]
  },
  {
   "cell_type": "code",
   "execution_count": null,
   "metadata": {},
   "outputs": [],
   "source": [
    "opr.Recorders.Objs_recorder_loader.ClearScenarioBank()"
   ]
  }
 ],
 "metadata": {
  "kernelspec": {
   "display_name": "Python 3",
   "language": "python",
   "name": "python3"
  },
  "language_info": {
   "codemirror_mode": {
    "name": "ipython",
    "version": 3
   },
   "file_extension": ".py",
   "mimetype": "text/x-python",
   "name": "python",
   "nbconvert_exporter": "python",
   "pygments_lexer": "ipython3",
   "version": "3.9.13"
  },
  "orig_nbformat": 4,
  "vscode": {
   "interpreter": {
    "hash": "11938c6bc6919ae2720b4d5011047913343b08a43b18698fd82dedb0d4417594"
   }
  }
 },
 "nbformat": 4,
 "nbformat_minor": 2
}
