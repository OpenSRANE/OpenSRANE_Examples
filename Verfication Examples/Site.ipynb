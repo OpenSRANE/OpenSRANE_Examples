{
 "cells": [
  {
   "cell_type": "code",
   "execution_count": null,
   "id": "5f72faf4",
   "metadata": {},
   "outputs": [],
   "source": [
    "import opensrane as opr\n",
    "import matplotlib.pyplot as plt"
   ]
  },
  {
   "cell_type": "code",
   "execution_count": null,
   "id": "2c20e0da",
   "metadata": {},
   "outputs": [],
   "source": [
    "opr.wipe()\n",
    "\n",
    "#Two Sites Are Defined Below With Different TAgs\n",
    "opr.Sites.Site(1, Temperature=273+40, Pressure=3*10**5 ,XSiteBoundary=[0,100,100,0], YSiteBoundary=[0,0,100,100], g=9.81)\n",
    "obj=opr.Sites.Site(2, XSiteBoundary=[150,250,250,150], YSiteBoundary=[0,0,100,100])\n",
    "print('Site pressure=',obj.Pressure)\n",
    "\n",
    "#Refer to Site Objewct with tag:\n",
    "obj=opr.Sites.ObjManager[2]\n",
    "print('Site pressure=',obj.Pressure)\n",
    "obj=opr.Sites.ObjManager.TagObjDict[1]\n",
    "print('Site pressure=',obj.Pressure)\n",
    "\n",
    "#Refer to the first Object (Attention to the first object Not tag)\n",
    "obj=opr.Sites.ObjManager.Objlst[0]\n",
    "print('Site pressure=',obj.Pressure)\n"
   ]
  }
 ],
 "metadata": {
  "kernelspec": {
   "display_name": "Python 3 (ipykernel)",
   "language": "python",
   "name": "python3"
  },
  "language_info": {
   "codemirror_mode": {
    "name": "ipython",
    "version": 3
   },
   "file_extension": ".py",
   "mimetype": "text/x-python",
   "name": "python",
   "nbconvert_exporter": "python",
   "pygments_lexer": "ipython3",
   "version": "3.9.13"
  },
  "vp": {
   "vp_config_version": "1.0.0",
   "vp_menu_width": 273,
   "vp_note_display": false,
   "vp_note_width": 0,
   "vp_position": {
    "width": 278
   },
   "vp_section_display": false,
   "vp_signature": "VisualPython"
  }
 },
 "nbformat": 4,
 "nbformat_minor": 5
}
