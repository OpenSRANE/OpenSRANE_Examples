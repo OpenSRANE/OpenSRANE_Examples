{
 "cells": [
  {
   "cell_type": "markdown",
   "id": "e66fa410",
   "metadata": {},
   "source": [
    "# Fragility"
   ]
  },
  {
   "cell_type": "code",
   "execution_count": null,
   "id": "989dc341",
   "metadata": {
    "scrolled": false
   },
   "outputs": [],
   "source": [
    "import opensrane as opr\n",
    "import matplotlib.pyplot as plt"
   ]
  },
  {
   "attachments": {},
   "cell_type": "markdown",
   "id": "80a3237e",
   "metadata": {},
   "source": [
    "#### Create Fragility object and test its properties:"
   ]
  },
  {
   "cell_type": "code",
   "execution_count": null,
   "id": "78be236b",
   "metadata": {},
   "outputs": [],
   "source": [
    "opr.wipe()\n",
    "\n",
    "opr.Fragilities.Fragility(1,'EFB','normal',5,2)\n",
    "opr.Fragilities.Fragility(2,'Gear Damage','normal',3,2)\n",
    "opr.Fragilities.Fragility(3,'Body Buckling','normal',4,3)\n",
    "opr.Fragilities.Fragility(4,'Body Buckling2','normal',4.5,3)\n",
    "opr.Fragilities.Fragility(5,'Body Buckling3','normal',5,3.3)\n",
    "\n",
    "for obj in opr.Fragilities.ObjManager.Objlst:\n",
    "    print('for Fragility tag:', obj.tag , ' The Corresponding Probability for Random Variable 3 is:',obj.GetProbability(3))\n",
    "    \n",
    "#Draw CDF for object 1\n",
    "obj1=opr.Fragilities.ObjManager.TagObjDict[1]\n",
    "\n",
    "print('\\nThe object with tag 1 has these mode Name:',obj1.modename)\n",
    "print('The object with tag 1 has distribution type:',obj1.DistType)\n",
    "print('The object with tag 1 has these mean values:',obj1.mean)\n",
    "print('The object with tag 1 has these Standard Deviation values:',obj1.StdDev)"
   ]
  },
  {
   "attachments": {},
   "cell_type": "markdown",
   "id": "1d27a642",
   "metadata": {},
   "source": [
    "#### Create a Fragility objec with normal distribution and check its distribution with Excel resutls:"
   ]
  },
  {
   "cell_type": "code",
   "execution_count": null,
   "id": "e04d9e01",
   "metadata": {},
   "outputs": [],
   "source": [
    "#Verification for normal distribution\n",
    "opr.wipe()\n",
    "\n",
    "obj=opr.Fragilities.Fragility(1,Distribution_Type='normal', mean=5, StdDev=2)\n",
    "#Excel results for mean=5 and std=2\n",
    "Excel=[0.00620966532577613,0.00714281073527141,0.00819753592459613,0.00938670553483857,0.0107241100216758,0.0122244726550447,0.0139034475134986,0.0157776073910905,0.0178644205628165,0.0201822154057044,0.0227501319481792,0.0255880595216386,0.0287165598160018,0.0321567747956137,0.0359303191129258,0.0400591568638171,0.044565462758543,0.0494714680336481,0.054799291699558,0.060570758002059,0.0668072012688581,0.0735292596096484,0.0807566592337711,0.088507991437402,0.0968004845856103,0.105649773666855,0.115069670221708,0.12507193563715,0.135666060946383,0.146859056375896,0.158655253931457,0.171056126308482,0.18406012534676,0.197662543122692,0.211855398583397,0.226627352376868,0.241963652223073,0.257846110805865,0.274253117750074,0.291159686788346,0.308537538725987,0.32635522028792,0.344578258389676,0.363169348824381,0.382088577811047,0.401293674317076,0.420740290560897,0.440382307629757,0.460172162722971,0.480061194161628,0.5,0.519938805838372,0.539827837277029,0.559617692370243,0.579259709439103,0.598706325682924,0.617911422188953,0.636830651175619,0.655421741610324,0.67364477971208,0.691462461274013,0.708840313211654,0.725746882249926,0.742153889194135,0.758036347776927,0.773372647623132,0.788144601416603,0.802337456877308,0.81593987465324,0.828943873691518,0.841344746068543,0.853140943624104,0.864333939053617,0.87492806436285,0.884930329778292,0.894350226333145,0.90319951541439,0.911492008562598,0.919243340766229,0.926470740390352,0.933192798731142,0.939429241997941,0.945200708300442,0.950528531966352,0.955434537241457,0.959940843136183,0.964069680887074,0.967843225204386,0.971283440183998,0.974411940478361,0.977249868051821,0.979817784594296,0.982135579437183,0.98422239260891,0.986096552486501,0.987775527344955,0.989275889978324,0.990613294465161,0.991802464075404,0.992857189264729,0.993790334674224]\n",
    "\n",
    "#Excel range of the Random Variable\n",
    "Magnitude=[i/10 for i in range(101)]\n",
    "\n",
    "#List of generated values by Created Object (obj)\n",
    "Generated=[obj.GetProbability(i) for i in Magnitude]\n",
    "\n",
    "plt.figure()\n",
    "plt.plot(Magnitude,Excel,label='Excel')\n",
    "plt.plot(Magnitude,Generated,label='Generated')\n",
    "plt.legend()\n",
    "plt.xlabel('Magnitude')\n",
    "plt.ylabel('Probability')\n",
    "plt.title(f'CDF Distribution for distribution={obj.DistType} mean={obj.mean} and std={obj.StdDev}',color='g')\n",
    "plt.show()"
   ]
  },
  {
   "attachments": {},
   "cell_type": "markdown",
   "id": "619b8230",
   "metadata": {},
   "source": [
    "#### Create a Fragility objec with lognormal distribution and check its distribution with Excel resutls:"
   ]
  },
  {
   "cell_type": "code",
   "execution_count": null,
   "id": "5f9b409d",
   "metadata": {},
   "outputs": [],
   "source": [
    "#Verification for lognormal distribution\n",
    "opr.wipe()\n",
    "import math\n",
    "obj=opr.Fragilities.Fragility(1,Distribution_Type='lognormal', mean=1.8, StdDev=0.75)\n",
    "#Excel results for mean=51.8 and std=0.75\n",
    "Excel=[0.000443368872962805,0.00819753592459613,0.0314866575293163,0.0699982906412703,0.119342693644532,0.17484684050795,0.232802266520937,0.290608642066892,0.346582538307854,0.399715801925924,0.449469192643485,0.495616760008879,0.538134969498259,0.577126148320459,0.612766708635067,0.645272716115421,0.67487738964635,0.701816715355177,0.72632053093662,0.748607266593389,0.768881105912544,0.787330726979907,0.804129055749149,0.819433649162196,0.833387451949063,0.846119757123861,0.85774725873404,0.868375125142364,0.878098047981419,0.88700123998492,0.895161366949546,0.902647407020044,0.909521435626017,0.915839337628887,0.921651450179559,0.927003140865757,0.931935326234779,0.936484935912391,0.940685327438584,0.944566656698678,0.948156208506431,0.951478691535855,0.954556501427705,0.957409955532165,0.960057502401805,0.962515908824167,0.96480042688445,0.966924943276341,0.968902112832907,0.970743478028256,0.972459576002877,0.974060034489253,0.975553657857638,0.97694850436288,0.978251955550021,0.979470778667453,0.980611182840105,0.981678869669968,0.98267907885608,0.983616629359644]\n",
    "\n",
    "#Excel range of the Random Variable\n",
    "Magnitude=[i/2 for i in range(1,61)]\n",
    "\n",
    "#List of generated values by Created Object (obj)\n",
    "Generated=[obj.GetProbability(i) for i in Magnitude]\n",
    "\n",
    "plt.figure()\n",
    "plt.plot(Magnitude,Excel,label='Excel')\n",
    "plt.plot(Magnitude,Generated,label='Generated')\n",
    "plt.legend()\n",
    "plt.xlabel('Magnitude')\n",
    "plt.ylabel('Probability')\n",
    "plt.title(f'CDF Dist-Type={obj.DistType} mean of Ln(x)={obj.mean} and std of Ln(x)={obj.StdDev}',color='g')\n",
    "plt.show()"
   ]
  },
  {
   "cell_type": "code",
   "execution_count": null,
   "id": "6caa77ec",
   "metadata": {},
   "outputs": [],
   "source": [
    "opr.Plot.Plotly.PlotFragilities(StdNumber=40)"
   ]
  },
  {
   "cell_type": "markdown",
   "id": "313f547a",
   "metadata": {},
   "source": [
    "## Probits"
   ]
  },
  {
   "attachments": {},
   "cell_type": "markdown",
   "id": "36cbb194",
   "metadata": {},
   "source": [
    "#### Create a Probit objec with normal and lognormal distribution and check properties:"
   ]
  },
  {
   "cell_type": "code",
   "execution_count": null,
   "id": "847517e4",
   "metadata": {},
   "outputs": [],
   "source": [
    "opr.wipe()\n",
    "\n",
    "opr.Fragilities.Probit(tag=1,Distribution_Type='normal',K1=5,K2=2)\n",
    "opr.Fragilities.Probit(2,'normal',3,2)\n",
    "opr.Fragilities.Probit(3,'lognormal',4,3)\n",
    "opr.Fragilities.Probit(4,'lognormal',4.5,3)\n",
    "opr.Fragilities.Fragility(5,Distribution_Type='normal',mean=5,StdDev=3.3)\n",
    "\n",
    "for obj in opr.Fragilities.ObjManager.Objlst:\n",
    "    print(obj.name)\n",
    "    \n"
   ]
  },
  {
   "attachments": {},
   "cell_type": "markdown",
   "id": "7b476a12",
   "metadata": {},
   "source": [
    "#### Create a Probit objec with normal distribution and check its distribution with Excel resutls:"
   ]
  },
  {
   "cell_type": "code",
   "execution_count": null,
   "id": "4c8b5e78",
   "metadata": {},
   "outputs": [],
   "source": [
    "#Verification for normal distribution\n",
    "opr.wipe()\n",
    "\n",
    "obj=opr.Fragilities.Probit(1,Distribution_Type='normal', K1=1, K2=0.5)\n",
    "#Excel results for mean=5 and std=2\n",
    "Excel=[3.39767312473005E-06,3.16712418331199E-05,0.000232629079035525,0.00134989803163009,0.00620966532577613,0.0227501319481792,0.0668072012688581,0.158655253931457,0.308537538725987,0.5,0.691462461274013,0.841344746068543,0.933192798731142,0.977249868051821,0.993790334674224,0.99865010196837,0.999767370920964,0.999968328758167,0.999996602326875,0.999999713348428,0.999999981010438,0.999999999013412,0.99999999995984]\n",
    "\n",
    "#Excel range of the Random Variable\n",
    "Dose=[i/2 for i in range(23)]\n",
    "\n",
    "#List of generated values by Created Object (obj)\n",
    "Generated=[obj.GetProbability(i) for i in Dose]\n",
    "\n",
    "\n",
    "plt.figure()\n",
    "plt.plot(Dose,Excel,label='Excel')\n",
    "plt.plot(Dose,Generated,label='Generated')\n",
    "plt.legend()\n",
    "plt.xlabel('Dose')\n",
    "plt.ylabel('Probability')\n",
    "plt.title(f'CDF Distribution for distribution={obj.DistType} mean={obj.mean} and std={obj.StdDev}',color='g')\n",
    "plt.show()"
   ]
  },
  {
   "attachments": {},
   "cell_type": "markdown",
   "id": "3fd5bbbf",
   "metadata": {},
   "source": [
    "#### Create a Probit objec with normal distribution and check its distribution with Excel resutls:"
   ]
  },
  {
   "cell_type": "code",
   "execution_count": null,
   "id": "6bb8660d",
   "metadata": {},
   "outputs": [],
   "source": [
    "#Verification for log normal distribution\n",
    "opr.wipe()\n",
    "\n",
    "obj=opr.Fragilities.Probit(1,Distribution_Type='lognormal', K1=1, K2=0.5)\n",
    "#Excel results for mean=5 and std=2\n",
    "Excel=[4.30656462230891E-20,0.0139954138003093,0.0662562227267046,0.135927084948079,0.208648223994374,0.278273867277455,0.342497894582516,0.400711942041258,0.453044380936582,0.499924069447986,0.541879616184157,0.579447543942368,0.613132088240471,0.643389800296413,0.670626009729306,0.695196771402629,0.717413125048509,0.737546096844058,0.755831684715014,0.772475484841812,0.787656828725862,0.801532406011979,0.8142393985932,0.8258981728861,0.836614583647308,0.846481941822576,0.855582694679972,0.863989860981988,0.871768258271563,0.878975554000964,0.885663167438306,0.891877045105856,0.897658328920541,0.903043933167712,0.908067043878904,0.912757552036115,0.917142430226971,0.921246060871349,0.925090522882637,0.928695842574893,0.932080213746174,0.935260191129611,0.938250860783288,0.941065990467936,0.943718162621335,0.946218892166573,0.948578731076635,0.950807361350948,0.952913677832627,0.954905862101998,0.956791448517015]\n",
    "\n",
    "#Excel range of the Random Variable\n",
    "Dose=[0.01]+[i*10 for i in range(1,51)]\n",
    "\n",
    "#List of generated values by Created Object (obj)\n",
    "Generated=[obj.GetProbability(i) for i in Dose]\n",
    "\n",
    "\n",
    "plt.figure()\n",
    "plt.plot(Dose,Excel,label='Excel')\n",
    "plt.plot(Dose,Generated,label='Generated')\n",
    "plt.legend()\n",
    "plt.xlabel('Dose')\n",
    "plt.ylabel('Probability')\n",
    "plt.title(f'CDF Dist-Type={obj.DistType} mean={obj.mean} and std={obj.StdDev}',color='g')\n",
    "plt.show()"
   ]
  },
  {
   "cell_type": "code",
   "execution_count": null,
   "id": "3c314b1e",
   "metadata": {},
   "outputs": [],
   "source": [
    "opr.Plot.Plotly.PlotProbits(StdNumber=1000,NPoints=500)"
   ]
  },
  {
   "cell_type": "code",
   "execution_count": null,
   "id": "e82f1d21",
   "metadata": {},
   "outputs": [],
   "source": [
    "opr.Plot.Plotly.PlotFragilities()"
   ]
  }
 ],
 "metadata": {
  "kernelspec": {
   "display_name": "Python 3 (ipykernel)",
   "language": "python",
   "name": "python3"
  },
  "language_info": {
   "codemirror_mode": {
    "name": "ipython",
    "version": 3
   },
   "file_extension": ".py",
   "mimetype": "text/x-python",
   "name": "python",
   "nbconvert_exporter": "python",
   "pygments_lexer": "ipython3",
   "version": "3.9.13"
  },
  "vp": {
   "vp_config_version": "1.0.0",
   "vp_menu_width": 273,
   "vp_note_display": false,
   "vp_note_width": 0,
   "vp_position": {
    "width": 278
   },
   "vp_section_display": false,
   "vp_signature": "VisualPython"
  }
 },
 "nbformat": 4,
 "nbformat_minor": 5
}
