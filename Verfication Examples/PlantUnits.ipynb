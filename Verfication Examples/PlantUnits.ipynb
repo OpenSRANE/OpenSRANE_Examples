{
 "cells": [
  {
   "cell_type": "markdown",
   "id": "635893b8",
   "metadata": {},
   "source": [
    "# PlantUnits"
   ]
  },
  {
   "cell_type": "code",
   "execution_count": null,
   "id": "c177b817",
   "metadata": {},
   "outputs": [],
   "source": [
    "import opensrane as opr\n",
    "import matplotlib.pyplot as plt\n",
    "import matplotlib.style as style\n",
    "import random as rnd"
   ]
  },
  {
   "cell_type": "code",
   "execution_count": null,
   "id": "9ded85b2",
   "metadata": {},
   "outputs": [],
   "source": [
    "opr.wipe()\n",
    "siteTag=1\n",
    "opr.Sites.Site(siteTag,\n",
    "    Temperature=None,\n",
    "    Pressure=None,\n",
    "    XSiteBoundary=[0],\n",
    "    YSiteBoundary=[0]) #Define Site\n",
    "\n",
    "FragilityTag=[1,2,3,4]\n",
    "opr.Fragilities.Fragility(FragilityTag[0],'normal',1,4,3) #Define Fragility \n",
    "opr.Fragilities.Fragility(FragilityTag[1],'normal',1,4,3)\n",
    "opr.Fragilities.Fragility(FragilityTag[2],'normal',1,4,3)\n",
    "opr.Fragilities.Fragility(FragilityTag[3],'normal',1,4,3)\n",
    "\n",
    "OnGroundTag=1\n",
    "opr.PlantUnits.ONGStorage(OnGroundTag,siteTag,\n",
    "                              Horizontal_localPosition=10,Vertical_localPosition=10,\n",
    "                              Pressure=1,Temperature=2,\n",
    "                              FragilityTagNumbers=[1,2,3]) #Define a StorageTank\n",
    "\n",
    "OnGroundTag=2\n",
    "opr.PlantUnits.ONGStorage(OnGroundTag,\n",
    "                              Horizontal_localPosition=10+12,Vertical_localPosition=10,\n",
    "                              Pressure=1,Temperature=2,\n",
    "                              FragilityTagNumbers=[1,3,4],Diameter=4,\n",
    "                               Height=5,SubstanceVolumeRatio=0.6) #Define a new StorageTank\n",
    "\n",
    "print(opr.PlantUnits.ObjManager.TagObjDict[OnGroundTag].V_unit)\n",
    "print(opr.PlantUnits.ObjManager.TagObjDict[OnGroundTag].V_subs)\n",
    "\n",
    "obj=opr.PlantUnits.ObjManager[2] #Select The Plant Unit With tag=2\n",
    "print(f'For PlantUnit with tag={obj.SiteTag} Site tag is = {obj.SiteTag} despite in the definition of the this unit, the site tag was not defined, The program Automatically assign the first Site t=ag to the Plant unit')"
   ]
  },
  {
   "cell_type": "markdown",
   "id": "8b87630f",
   "metadata": {},
   "source": [
    "## Boundary Points of Storage Tank"
   ]
  },
  {
   "cell_type": "code",
   "execution_count": null,
   "id": "1623dae9",
   "metadata": {},
   "outputs": [],
   "source": [
    "boundarypoints=obj.boundary_points\n",
    "style.use(rnd.choice(style.available))\n",
    "fig = plt.figure()\n",
    "ax = fig.add_subplot(projection='3d')\n",
    "\n",
    "boundx=[i[0] for i in boundarypoints]\n",
    "boundy=[i[1] for i in boundarypoints]\n",
    "boundz=[i[2] for i in boundarypoints]\n",
    "ax.scatter(boundx,boundy,boundz);\n",
    "\n"
   ]
  }
 ],
 "metadata": {
  "kernelspec": {
   "display_name": "Python 3 (ipykernel)",
   "language": "python",
   "name": "python3"
  },
  "language_info": {
   "codemirror_mode": {
    "name": "ipython",
    "version": 3
   },
   "file_extension": ".py",
   "mimetype": "text/x-python",
   "name": "python",
   "nbconvert_exporter": "python",
   "pygments_lexer": "ipython3",
   "version": "3.9.13"
  },
  "vp": {
   "vp_config_version": "1.0.0",
   "vp_menu_width": 273,
   "vp_note_display": false,
   "vp_note_width": 0,
   "vp_position": {
    "width": 278
   },
   "vp_section_display": false,
   "vp_signature": "VisualPython"
  }
 },
 "nbformat": 4,
 "nbformat_minor": 5
}
