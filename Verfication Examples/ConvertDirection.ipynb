{
 "cells": [
  {
   "attachments": {},
   "cell_type": "markdown",
   "id": "7d6f6f09",
   "metadata": {},
   "source": [
    "### Check \"_convertdirection and _convertBackdirection\" internal functions that are used for converting points coordinate along the wind direction and convert it back to its originall position"
   ]
  },
  {
   "cell_type": "code",
   "execution_count": null,
   "id": "5aa36f5d",
   "metadata": {},
   "outputs": [],
   "source": [
    "import opensrane as opr\n",
    "import matplotlib.pyplot as plt\n",
    "from opensrane.DispersionSpreadModels._GlobalParameters import _GlobalParameters as GLb\n",
    "import matplotlib.pyplot as plt"
   ]
  },
  {
   "attachments": {},
   "cell_type": "markdown",
   "id": "0c8c08e1",
   "metadata": {},
   "source": [
    "#### Test for Wind Direction = 90"
   ]
  },
  {
   "cell_type": "code",
   "execution_count": null,
   "id": "f2f023fc",
   "metadata": {},
   "outputs": [],
   "source": [
    "opr.Misc.MiscFuncs.wipe()\n",
    "winobj=opr.WindData.WindRose(1)\n",
    "\n",
    "winobj.WindDirection=90 #means wind blasting from left to right\n",
    "\n",
    "#Manually create an object from _GlobalParameters to get access to the _convertdirection and _convertBackdirection\n",
    "GLB=GLb(1,[1])\n",
    "\n",
    "[x,y]=GLB._convertdirection(2,2)\n",
    "print([x,y])\n",
    "print(GLB._convertBackdirection(x,y))"
   ]
  },
  {
   "attachments": {},
   "cell_type": "markdown",
   "id": "855d80dd",
   "metadata": {},
   "source": [
    "#### Test for Wind Direction = 45"
   ]
  },
  {
   "cell_type": "code",
   "execution_count": null,
   "id": "508f19dd",
   "metadata": {},
   "outputs": [],
   "source": [
    "winobj.WindDirection=45 \n",
    "[x,y]=GLB._convertdirection(2,2)\n",
    "print([x,y])\n",
    "print(GLB._convertBackdirection(x,y))"
   ]
  },
  {
   "attachments": {},
   "cell_type": "markdown",
   "id": "eed3a791",
   "metadata": {},
   "source": [
    "#### Test for a range of Wind Directions"
   ]
  },
  {
   "cell_type": "code",
   "execution_count": null,
   "id": "044fd587",
   "metadata": {
    "scrolled": false
   },
   "outputs": [],
   "source": [
    "#Plot for different wind angles\n",
    "X=[]\n",
    "Y=[]\n",
    "Theta=[i*10 for i in range(0,37)]\n",
    "for theta in Theta:\n",
    "    winobj.WindDirection=theta\n",
    "    [x,y]=GLB._convertdirection(2,2)\n",
    "    X.append(x)\n",
    "    Y.append(y)\n",
    "#     print([x,y])\n",
    "#     print(GLB._convertBackdirection(x,y))\n",
    "    \n",
    "plt.plot(Theta,X)\n",
    "plt.plot(Theta,Y)\n",
    "plt.show()"
   ]
  }
 ],
 "metadata": {
  "kernelspec": {
   "display_name": "Python 3 (ipykernel)",
   "language": "python",
   "name": "python3"
  },
  "language_info": {
   "codemirror_mode": {
    "name": "ipython",
    "version": 3
   },
   "file_extension": ".py",
   "mimetype": "text/x-python",
   "name": "python",
   "nbconvert_exporter": "python",
   "pygments_lexer": "ipython3",
   "version": "3.9.13"
  },
  "vp": {
   "vp_config_version": "1.0.0",
   "vp_menu_width": 273,
   "vp_note_display": false,
   "vp_note_width": 0,
   "vp_position": {
    "width": 278
   },
   "vp_section_display": false,
   "vp_signature": "VisualPython"
  }
 },
 "nbformat": 4,
 "nbformat_minor": 5
}
