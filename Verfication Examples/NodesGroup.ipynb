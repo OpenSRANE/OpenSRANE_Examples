{
 "cells": [
  {
   "cell_type": "code",
   "execution_count": null,
   "id": "7ff64b36",
   "metadata": {},
   "outputs": [],
   "source": [
    "import opensrane as opr\n",
    "import matplotlib.pyplot as plt"
   ]
  },
  {
   "attachments": {},
   "cell_type": "markdown",
   "id": "86d5e7e1",
   "metadata": {},
   "source": [
    "# NodesGroup"
   ]
  },
  {
   "attachments": {},
   "cell_type": "markdown",
   "id": "fa6341ed",
   "metadata": {},
   "source": [
    "#### create a NodesGroup object with Nodes method:"
   ]
  },
  {
   "cell_type": "code",
   "execution_count": null,
   "id": "055effb1",
   "metadata": {},
   "outputs": [],
   "source": [
    "opr.wipe()\n",
    "\n",
    "obj=opr.NodesGroups.Nodes(1,[4,5,6],[4,5,6],[1,1,1],[2,2,2],[2,3,4])\n",
    "obj1=opr.NodesGroups.Nodes(2,[4,8,5,6],[4,5,6,7], [1,1,1,1],[2,4,2,2],[2,2,3,4],Type='Environment')\n",
    "\n",
    "print(\"tag 1 intensity list=\",obj.IntensityList)\n",
    "print(\"tag 2 intensity list=\",obj1.IntensityList)\n",
    "\n",
    "print('tag 2 type:',obj1.Type)\n",
    "\n",
    "opr.NodesGroups.ObjManager[1].name"
   ]
  },
  {
   "attachments": {},
   "cell_type": "markdown",
   "id": "27b90fd7",
   "metadata": {},
   "source": [
    "#### create a NodesGroup object with RectangNodes method: "
   ]
  },
  {
   "cell_type": "code",
   "execution_count": null,
   "id": "ce44d0bc",
   "metadata": {},
   "outputs": [],
   "source": [
    "obj=opr.NodesGroups.RectangNodes(3,10,20,50,100,10,20,1,10)"
   ]
  },
  {
   "cell_type": "code",
   "execution_count": null,
   "id": "3f719fd6",
   "metadata": {},
   "outputs": [],
   "source": [
    "x=obj.xGlobalList\n",
    "y=obj.yGlobalList\n",
    "\n",
    "import plotly.express as exp\n",
    "\n",
    "fig=exp.scatter(x=x,y=y)\n",
    "fig.show()\n"
   ]
  },
  {
   "attachments": {},
   "cell_type": "markdown",
   "id": "c27555aa",
   "metadata": {},
   "source": [
    "#### create a NodesGroup object with Nodes method: "
   ]
  },
  {
   "cell_type": "code",
   "execution_count": null,
   "id": "fcb93c7d",
   "metadata": {},
   "outputs": [],
   "source": [
    "import random as rnd\n",
    "\n",
    "xGlobalList=[rnd.uniform(-50,50) for i in range(20)]\n",
    "yGlobalList=[rnd.uniform(-50,50) for i in range(20)]\n",
    "zGlobalList=[2 for i in range(20)]\n",
    "AreaList=[2 for i in range(20)]\n",
    "IntensityList=[rnd.uniform(0,5) for i in range(20)]\n",
    "pressure_probit_tag=1\n",
    "radiation_probit_tag=1\n",
    "opr.NodesGroups.Nodes(4, xGlobalList, yGlobalList, zGlobalList, AreaList, IntensityList,\n",
    "                     pressure_probit_tag, radiation_probit_tag, Type='Social')"
   ]
  }
 ],
 "metadata": {
  "kernelspec": {
   "display_name": "Python 3 (ipykernel)",
   "language": "python",
   "name": "python3"
  },
  "language_info": {
   "codemirror_mode": {
    "name": "ipython",
    "version": 3
   },
   "file_extension": ".py",
   "mimetype": "text/x-python",
   "name": "python",
   "nbconvert_exporter": "python",
   "pygments_lexer": "ipython3",
   "version": "3.9.13"
  },
  "vp": {
   "vp_config_version": "1.0.0",
   "vp_menu_width": 273,
   "vp_note_display": false,
   "vp_note_width": 0,
   "vp_position": {
    "width": 278
   },
   "vp_section_display": false,
   "vp_signature": "VisualPython"
  }
 },
 "nbformat": 4,
 "nbformat_minor": 5
}
