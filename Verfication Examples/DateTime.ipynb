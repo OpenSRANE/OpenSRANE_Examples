{
 "cells": [
  {
   "cell_type": "markdown",
   "id": "84e3eb42",
   "metadata": {},
   "source": [
    "# DateTime"
   ]
  },
  {
   "cell_type": "code",
   "execution_count": null,
   "id": "b4f40fae",
   "metadata": {},
   "outputs": [],
   "source": [
    "import opensrane as opr\n",
    "import matplotlib.pyplot as plt"
   ]
  },
  {
   "cell_type": "code",
   "execution_count": null,
   "id": "ee1adaff",
   "metadata": {},
   "outputs": [],
   "source": [
    "\n",
    "opr.wipe()\n",
    "\n",
    "#Generate an DateTime Obj with day to night ratio equal to 2\n",
    "obj=opr.DateAndTime.DateTime(1,Day_Night_Ratio=2)\n",
    "\n",
    "Results=[]\n",
    "for i in range(100):\n",
    "    N=10000\n",
    "    \n",
    "    Samples=[obj.SampleisDay() for i in range(N)]\n",
    "\n",
    "    Results.append(Samples.count(True)/Samples.count(False))\n",
    "    \n",
    "plt.plot(Results)\n",
    "plt.ylim(0,4)\n",
    "plt.xlabel('Times of sulation repeated')\n",
    "plt.ylabel('Day to Night Ratio')"
   ]
  }
 ],
 "metadata": {
  "kernelspec": {
   "display_name": "Python 3 (ipykernel)",
   "language": "python",
   "name": "python3"
  },
  "language_info": {
   "codemirror_mode": {
    "name": "ipython",
    "version": 3
   },
   "file_extension": ".py",
   "mimetype": "text/x-python",
   "name": "python",
   "nbconvert_exporter": "python",
   "pygments_lexer": "ipython3",
   "version": "3.9.13"
  },
  "vp": {
   "vp_config_version": "1.0.0",
   "vp_menu_width": 273,
   "vp_note_display": false,
   "vp_note_width": 0,
   "vp_position": {
    "width": 278
   },
   "vp_section_display": false,
   "vp_signature": "VisualPython"
  }
 },
 "nbformat": 4,
 "nbformat_minor": 5
}
