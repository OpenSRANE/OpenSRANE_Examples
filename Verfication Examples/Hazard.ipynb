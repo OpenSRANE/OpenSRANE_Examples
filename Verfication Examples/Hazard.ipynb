{
 "cells": [
  {
   "attachments": {},
   "cell_type": "markdown",
   "id": "84e3eb42",
   "metadata": {},
   "source": [
    "# Earthquake\n",
    "\n",
    "## First Verification"
   ]
  },
  {
   "cell_type": "code",
   "execution_count": null,
   "id": "b4f40fae",
   "metadata": {},
   "outputs": [],
   "source": [
    "import opensrane as opr"
   ]
  },
  {
   "cell_type": "code",
   "execution_count": null,
   "id": "ee1adaff",
   "metadata": {},
   "outputs": [],
   "source": [
    "#Generate an Seismic Hazard Obj\n",
    "import matplotlib.pyplot as plt\n",
    "import random\n",
    "# %matplotlib notebook\n",
    "\n",
    "opr.wipe()\n",
    "PGA=[1.4, 1.29984,1.27091,1.24865,1.22194,1.20191,1.17297,1.13959,1.11065,1.08172, \n",
    "     1.05501,1.03275,0.994913,0.961526,0.92814,0.899205,0.872496,0.843561,0.816852, \n",
    "     0.790143,0.761208,0.732273,0.696661,0.667727,0.636566,0.609857,0.589825,0.569793, \n",
    "     0.549762,0.525278,0.503021,0.48744,0.469634,0.451828,0.431797,0.409539,0.38283, \n",
    "     0.356121,0.338315,0.307154,0.280445,0.260413,0.23593,0.211447,0.17806,0.158029, \n",
    "     0.142448,0.126868,0.113514,0.0979332,0.0845787,0.0712242,0.0578696,0.0534181, \n",
    "     0.0489666,0.0445151,0.0356121,0.0356121,0.0311606]\n",
    "\n",
    "Prob=[0, 0.000000446937,0.000000529832,0.000000607087,0.000000695608,0.000000824624,0.000000944864, \n",
    "      0.00000115888,0.00000137382,0.00000157414,0.0000019307,0.00000206667,0.00000262252,0.00000321654, \n",
    "      0.00000381312,0.00000452035,0.00000535876,0.00000657255,0.00000779158,0.00000955643,0.0000113289, \n",
    "      0.0000134301,0.0000176322,0.000021626,0.0000265244,0.0000325323,0.0000372759,0.0000441896,0.000050633, \n",
    "      0.0000621017,0.0000711569,0.0000843545,0.0000966544,0.000110748,0.000131288,0.000155639,0.0001975, \n",
    "      0.000259294,0.000318026,0.000403563,0.000548171,0.000744597,0.00104642,0.00152148,0.00253478,0.00356225, \n",
    "      0.00467682,0.00657255,0.00892769,0.0109499,0.0143759,0.0209024,0.0274425,0.0325323,0.0399011,0.048939, \n",
    "      0.060024,0.0687762,0.0843545]\n",
    "\n",
    "obj=opr.Hazard.Earthquake(1,'PGA',PGA,Prob) #Create Hazard Object with tag=1 that is 0th Object\n",
    "\n",
    "plt.figure()\n",
    "plt.plot(PGA,Prob)\n",
    "plt.xlabel('PGA')\n",
    "plt.ylabel('Probability of exceedance')\n",
    "print('defined object type is=',obj.DefType)\n",
    "\n",
    "\n",
    "print('Get A uniform random Magnitude=',opr.Hazard.ObjManager.Objlst[0].SampleRandomMagnitude()) # For 0th Object we get a random Magnitude \n",
    "\n",
    "rnd=random.random() \n",
    "print(f'\\nFor random value equal to {rnd} the corresponding magnitude is {opr.Hazard.ObjManager.Objlst[0].SampleRandomMagnitude(rnd)}')\n",
    "\n",
    "print('\\nDefined Hazard Magnitude List:\\n',opr.Hazard.ObjManager.Objlst[0].Magnitude)\n",
    "print('\\nDefined Hazard Probability List:\\n',opr.Hazard.ObjManager.Objlst[0].Probabilities)"
   ]
  },
  {
   "cell_type": "code",
   "execution_count": null,
   "id": "e4abf547",
   "metadata": {},
   "outputs": [],
   "source": [
    "#verification\n",
    "\n",
    "Freq=[0 for i in PGA]\n",
    "N=1000\n",
    "for i in range(N):\n",
    "    \n",
    "    Magnitude=opr.Hazard.ObjManager.Objlst[0].SampleRandomMagnitude()\n",
    "    \n",
    "    if Magnitude==0:\n",
    "        continue\n",
    "        \n",
    "    for mag in PGA:\n",
    "\n",
    "        if Magnitude>=mag:\n",
    "            if Magnitude==mag:\n",
    "                Freq[PGA.index(mag)] +=1\n",
    "            else:\n",
    "                Freq[PGA.index(mag)-1] +=1\n",
    "            break\n",
    "            \n",
    "Freq=[i/N for i in Freq]\n",
    "Freq=[sum(Freq[0:i]) for i in range(len(Freq))]\n",
    "\n",
    "plt.figure()\n",
    "plt.plot(PGA,Prob,label='Original')\n",
    "plt.plot(PGA,Freq,label='Sampled');\n",
    "plt.xlabel('PGA')\n",
    "plt.ylabel('Probability of exceedance')\n",
    "plt.legend()\n"
   ]
  },
  {
   "attachments": {},
   "cell_type": "markdown",
   "id": "95604f31",
   "metadata": {},
   "source": [
    "## Second Verification"
   ]
  },
  {
   "cell_type": "code",
   "execution_count": null,
   "id": "ddbc6cf2",
   "metadata": {},
   "outputs": [],
   "source": [
    "#Generate an Seismic Hazard Obj\n",
    "import matplotlib.pyplot as plt\n",
    "import random\n",
    "# %matplotlib notebook\n",
    "\n",
    "opr.wipe()\n",
    "PGA=[i*5/100 for i in range(1,61)]\n",
    "\n",
    "Prob=[0.0004*i**(-1.82) for i in PGA]\n",
    "Prob[-1]=0\n",
    "\n",
    "\n",
    "obj=opr.Hazard.Earthquake(1,'PGA',PGA,Prob) #Create Hazard Object with tag=1 that is 0th Object\n",
    "\n",
    "plt.figure()\n",
    "plt.plot(PGA,Prob)\n",
    "plt.xlabel('PGA')\n",
    "plt.ylabel('Probability of exceedance')\n",
    "print('defined object type is=',obj.DefType)\n",
    "\n",
    "\n",
    "print('Get A uniform random Magnitude=',opr.Hazard.ObjManager.Objlst[0].SampleRandomMagnitude()) # For 0th Object we get a random Magnitude \n",
    "\n",
    "rnd=random.random() \n",
    "print(f'\\nFor random value equal to {rnd} the corresponding magnitude is {opr.Hazard.ObjManager.Objlst[0].SampleRandomMagnitude(rnd)}')\n",
    "\n",
    "print('\\nDefined Hazard Magnitude List:\\n',opr.Hazard.ObjManager.Objlst[0].Magnitude)\n",
    "print('\\nDefined Hazard Probability List:\\n',opr.Hazard.ObjManager.Objlst[0].Probabilities)"
   ]
  },
  {
   "cell_type": "code",
   "execution_count": null,
   "id": "39c72104",
   "metadata": {},
   "outputs": [],
   "source": [
    "#verification\n",
    "\n",
    "Freq=[0 for i in PGA]\n",
    "N=1000\n",
    "for i in range(N):\n",
    "    \n",
    "    Magnitude=opr.Hazard.ObjManager.Objlst[0].SampleRandomMagnitude()\n",
    "    \n",
    "    if Magnitude==0:\n",
    "        continue\n",
    "        \n",
    "    for mag in PGA[::-1]:\n",
    "\n",
    "        if Magnitude>=mag:\n",
    "#             if Magnitude==mag:\n",
    "            Freq[PGA.index(mag)] +=1\n",
    "#             else:\n",
    "#                 Freq[PGA.index(mag)-1] +=1\n",
    "            break\n",
    "M=N-sum(Freq)            \n",
    "Freq=[i/N for i in Freq]\n",
    "Freq=[(1-M/N)-sum(Freq[0:i]) for i in range(len(Freq))]\n",
    "\n",
    "plt.figure()\n",
    "plt.plot(PGA,Prob,label='Original')\n",
    "plt.plot(PGA,Freq,label='Sampled');\n",
    "plt.xlabel('PGA')\n",
    "plt.ylabel('Probability of exceedance')\n",
    "plt.legend()\n"
   ]
  }
 ],
 "metadata": {
  "kernelspec": {
   "display_name": "Python 3 (ipykernel)",
   "language": "python",
   "name": "python3"
  },
  "language_info": {
   "codemirror_mode": {
    "name": "ipython",
    "version": 3
   },
   "file_extension": ".py",
   "mimetype": "text/x-python",
   "name": "python",
   "nbconvert_exporter": "python",
   "pygments_lexer": "ipython3",
   "version": "3.9.13"
  },
  "vp": {
   "vp_config_version": "1.0.0",
   "vp_menu_width": 273,
   "vp_note_display": false,
   "vp_note_width": 0,
   "vp_position": {
    "width": 278
   },
   "vp_section_display": false,
   "vp_signature": "VisualPython"
  }
 },
 "nbformat": 4,
 "nbformat_minor": 5
}
